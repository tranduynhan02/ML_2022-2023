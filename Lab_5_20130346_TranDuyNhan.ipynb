{
  "nbformat": 4,
  "nbformat_minor": 0,
  "metadata": {
    "colab": {
      "provenance": [],
      "include_colab_link": true
    },
    "kernelspec": {
      "name": "python3",
      "display_name": "Python 3"
    },
    "language_info": {
      "name": "python"
    }
  },
  "cells": [
    {
      "cell_type": "markdown",
      "metadata": {
        "id": "view-in-github",
        "colab_type": "text"
      },
      "source": [
        "<a href=\"https://colab.research.google.com/github/tranduynhan02/ML_2022-2023/blob/main/Lab_5_20130346_TranDuyNhan.ipynb\" target=\"_parent\"><img src=\"https://colab.research.google.com/assets/colab-badge.svg\" alt=\"Open In Colab\"/></a>"
      ]
    },
    {
      "cell_type": "markdown",
      "source": [
        "# This lab is to deal with **SVM** to classification tasks and compare its performance with other competitive algorithms. In general, **SVM** is one of the most popular and widely used supervised machine learning algorithms.\n",
        "\n",
        "*   **Deadline: 23:59, 17/03/2023**\n",
        "\n"
      ],
      "metadata": {
        "id": "LMzehe0sy5wr"
      }
    },
    {
      "cell_type": "markdown",
      "source": [
        "# Mount Drive"
      ],
      "metadata": {
        "id": "0iSgL8e5JP88"
      }
    },
    {
      "cell_type": "code",
      "source": [
        "from google.colab import drive\n",
        "drive.mount('/content/gdrive')\n",
        "%cd '/content/gdrive/MyDrive/Study/MachineLearning/lab5'"
      ],
      "metadata": {
        "colab": {
          "base_uri": "https://localhost:8080/"
        },
        "id": "K-rCYRGJI893",
        "outputId": "0f4e7647-2123-4090-e8cd-48a0255a5ced"
      },
      "execution_count": 40,
      "outputs": [
        {
          "output_type": "stream",
          "name": "stdout",
          "text": [
            "Drive already mounted at /content/gdrive; to attempt to forcibly remount, call drive.mount(\"/content/gdrive\", force_remount=True).\n",
            "/content/gdrive/MyDrive/Study/MachineLearning/lab5\n"
          ]
        }
      ]
    },
    {
      "cell_type": "markdown",
      "source": [
        "# Import libraries"
      ],
      "metadata": {
        "id": "H4nJmxp9zGX4"
      }
    },
    {
      "cell_type": "code",
      "execution_count": 41,
      "metadata": {
        "id": "DoVWQ8AEyc-C"
      },
      "outputs": [],
      "source": [
        "# code\n",
        "import numpy as np\n",
        "import pandas as pd\n",
        "import matplotlib.pyplot as plt\n",
        "import sklearn.metrics as metrics\n",
        "from sklearn.model_selection import train_test_split\n",
        "from sklearn import datasets\n",
        "from sklearn import svm\n",
        "from sklearn.metrics import confusion_matrix \n",
        "from sklearn.metrics import ConfusionMatrixDisplay\n",
        "from sklearn.metrics import accuracy_score\n",
        "from sklearn.metrics import precision_score\n",
        "from sklearn.metrics import recall_score\n",
        "from sklearn.tree import DecisionTreeClassifier\n",
        "from sklearn.linear_model import LogisticRegression\n",
        "from sklearn.neighbors import KNeighborsClassifier\n",
        "from scipy.sparse import data\n",
        "from prettytable import PrettyTable"
      ]
    },
    {
      "cell_type": "markdown",
      "source": [
        "#Task 1. \n",
        "For breast cancer dataset (https://tinyurl.com/3vme8hr3) which could be loaded from datasets in sklearn as follows:\n",
        "\n",
        "```\n",
        "#Import scikit-learn dataset library\n",
        "from sklearn import datasets\n",
        "\n",
        "#Load dataset\n",
        "cancer = datasets.load_breast_cancer()\n",
        "```\n",
        "\n",
        "*   1.1.\tApply SVM algorithm to above dataset using linear kernel.\n",
        "*   1.2.\tCompare the obtained results with other competitive algorithms (Logistic Regression, Decision Tree, kNN) based on metrics: accuracy, precision, recall, f1 measures.\n",
        "\n"
      ],
      "metadata": {
        "id": "kNv07ARGzOUm"
      }
    },
    {
      "cell_type": "code",
      "source": [
        "# code\n",
        "cancer = datasets.load_breast_cancer()\n",
        "X = cancer.data\n",
        "y = cancer.target\n",
        "clf = svm.SVC(kernel='linear')\n",
        "X_train, X_test, y_train, y_test = train_test_split(X, y, test_size=0.3)\n",
        "clf.fit(X_train, y_train)\n",
        "y_pred = clf.predict(X_test)\n",
        "cm = confusion_matrix(y_test, y_pred)\n",
        "print (\"Confusion Matrix: \\n\", cm)\n",
        "print('--------------------')\n",
        "acc_svm = accuracy_score(y_test, y_pred)\n",
        "print (\"Accuracy: \", acc_svm)\n",
        "print('--------------------')\n",
        "# ConfusionMatrixDisplay.from_predictions(y_test, y_pred)\n",
        "# print(\"Precision: \", precision_score(y_test, y_pred, average='macro'))\n",
        "# print(\"Recall: \", recall_score(y_test, y_pred, average='macro'))\n",
        "# print(\"f1: \", metrics.f1_score(y_test, y_pred, average='macro'))\n",
        "# print(metrics.classification_report(y_test, y_pred))\n",
        "precision_svm = round((metrics.precision_score(y_test, y_pred, average = 'macro')),4)\n",
        "f1_svm = round((metrics.f1_score(y_test, y_pred, average = 'macro')),4)\n",
        "recall_svm = round((metrics.recall_score(y_test, y_pred, average = 'macro')),4)"
      ],
      "metadata": {
        "id": "sOsg77IBzEyo",
        "colab": {
          "base_uri": "https://localhost:8080/"
        },
        "outputId": "963032b1-b25c-48df-8701-cf2b906fee8b"
      },
      "execution_count": 44,
      "outputs": [
        {
          "output_type": "stream",
          "name": "stdout",
          "text": [
            "Confusion Matrix: \n",
            " [[ 60   6]\n",
            " [  1 104]]\n",
            "--------------------\n",
            "Accuracy:  0.9590643274853801\n",
            "--------------------\n"
          ]
        }
      ]
    },
    {
      "cell_type": "code",
      "source": [
        "classifier = LogisticRegression()\n",
        "X_train, X_test, y_train, y_test = train_test_split(X, y, test_size= 0.3, random_state=1)\n",
        "classifier.fit(X_train, y_train)\n",
        "y_pred = classifier.predict(X_test)\n",
        "cm = confusion_matrix(y_test, y_pred)\n",
        "print('--------------------')\n",
        "print (\"Confusion Matrix: \\n\", cm)\n",
        "print('--------------------')\n",
        "print (\"Accuracy: \", accuracy_score(y_test, y_pred))\n",
        "print('--------------------')\n",
        "print(metrics.classification_report(y_test, y_pred))"
      ],
      "metadata": {
        "colab": {
          "base_uri": "https://localhost:8080/"
        },
        "id": "vgIKYPlCTIHe",
        "outputId": "2f5731b8-4dfd-420f-cd60-4c84f83602ad"
      },
      "execution_count": 45,
      "outputs": [
        {
          "output_type": "stream",
          "name": "stdout",
          "text": [
            "--------------------\n",
            "Confusion Matrix: \n",
            " [[ 58   5]\n",
            " [  7 101]]\n",
            "--------------------\n",
            "Accuracy:  0.9298245614035088\n",
            "--------------------\n",
            "              precision    recall  f1-score   support\n",
            "\n",
            "           0       0.89      0.92      0.91        63\n",
            "           1       0.95      0.94      0.94       108\n",
            "\n",
            "    accuracy                           0.93       171\n",
            "   macro avg       0.92      0.93      0.93       171\n",
            "weighted avg       0.93      0.93      0.93       171\n",
            "\n"
          ]
        },
        {
          "output_type": "stream",
          "name": "stderr",
          "text": [
            "/usr/local/lib/python3.9/dist-packages/sklearn/linear_model/_logistic.py:458: ConvergenceWarning: lbfgs failed to converge (status=1):\n",
            "STOP: TOTAL NO. of ITERATIONS REACHED LIMIT.\n",
            "\n",
            "Increase the number of iterations (max_iter) or scale the data as shown in:\n",
            "    https://scikit-learn.org/stable/modules/preprocessing.html\n",
            "Please also refer to the documentation for alternative solver options:\n",
            "    https://scikit-learn.org/stable/modules/linear_model.html#logistic-regression\n",
            "  n_iter_i = _check_optimize_result(\n"
          ]
        }
      ]
    },
    {
      "cell_type": "code",
      "source": [
        "kNN = KNeighborsClassifier()\n",
        "X_train, X_test, y_train, y_test = train_test_split(X,y, test_size = 0.3)\n",
        "kNN.fit(X_train,y_train)\n",
        "y_pred = kNN.predict(X_test)\n",
        "cm = confusion_matrix(y_test, y_pred)\n",
        "print('--------------------')\n",
        "print (\"Confusion Matrix: \\n\", cm)\n",
        "print('--------------------')\n",
        "print (\"Accuracy: \", accuracy_score(y_test, y_pred))\n",
        "print('--------------------')\n",
        "print(metrics.classification_report(y_test, y_pred))"
      ],
      "metadata": {
        "colab": {
          "base_uri": "https://localhost:8080/"
        },
        "id": "HeSaoKctV8BW",
        "outputId": "f5639767-4d6f-4573-be49-4e3216a30b15"
      },
      "execution_count": 46,
      "outputs": [
        {
          "output_type": "stream",
          "name": "stdout",
          "text": [
            "--------------------\n",
            "Confusion Matrix: \n",
            " [[ 60   8]\n",
            " [  3 100]]\n",
            "--------------------\n",
            "Accuracy:  0.935672514619883\n",
            "--------------------\n",
            "              precision    recall  f1-score   support\n",
            "\n",
            "           0       0.95      0.88      0.92        68\n",
            "           1       0.93      0.97      0.95       103\n",
            "\n",
            "    accuracy                           0.94       171\n",
            "   macro avg       0.94      0.93      0.93       171\n",
            "weighted avg       0.94      0.94      0.94       171\n",
            "\n"
          ]
        }
      ]
    },
    {
      "cell_type": "markdown",
      "source": [
        "#Task 2. \n",
        "\n",
        "*   1.1.\tPerform SVM algorithm to **Iris dataset** using **linear kernel**.\n",
        "*   1.2.\tCompare the obtained results in 1.1 with SVM using other kernels (**Polynomial Kernel, Gaussian Kernel, Sigmoid Kernel, Radial Basis Function Kernel**). Some metrics could be used: accuracy, precision, recall, f1 measures\n",
        "\n",
        "\n",
        "\n"
      ],
      "metadata": {
        "id": "S43IoUT-0OQq"
      }
    },
    {
      "cell_type": "code",
      "source": [
        "# code\n",
        "iris = datasets.load_iris()\n",
        "X = iris.data\n",
        "y = iris.target\n",
        "clf = svm.SVC(kernel='linear')\n",
        "X_train, X_test, y_train, y_test = train_test_split(X, y, test_size=0.3)\n",
        "clf.fit(X_train, y_train)\n",
        "y_pred = clf.predict(X_test)\n",
        "cm = confusion_matrix(y_test, y_pred)\n",
        "print('--------------------')\n",
        "print (\"Confusion Matrix: \\n\", cm)\n",
        "print('--------------------')\n",
        "acc_linear = accuracy_score(y_test, y_pred)\n",
        "print (\"Accuracy: \", acc_linear)\n",
        "print('--------------------')\n",
        "# print(metrics.classification_report(y_test, y_pred))\n",
        "precision_linear = metrics.precision_score(y_test, y_pred, average='micro')\n",
        "recall_linear = metrics.recall_score(y_test, y_pred, average='micro')\n",
        "f1_linear = metrics.f1_score(y_test, y_pred, average='micro')\n",
        "\n",
        "clf = svm.SVC(kernel='poly', degree=3)\n",
        "clf.fit(X_train, y_train)\n",
        "y_pred = clf.predict(X_test)\n",
        "acc_poly = round(metrics.accuracy_score(y_test, y_pred),4)\n",
        "precision_poly = round(metrics.precision_score(y_test, y_pred, average='micro'),4)\n",
        "recall_poly = round(metrics.recall_score(y_test, y_pred, average='micro'),4)\n",
        "f1_poly = round(metrics.f1_score(y_test, y_pred, average='micro'),4)\n",
        "\n",
        "clf = svm.SVC(kernel='sigmoid', degree=4)\n",
        "clf.fit(X_train, y_train)\n",
        "y_pred = clf.predict(X_test)\n",
        "acc_sigmoid = round(metrics.accuracy_score(y_test, y_pred),4)\n",
        "precision_sigmoid = round(metrics.precision_score(y_test, y_pred, average='micro'),4)\n",
        "recall_sigmoid = round(metrics.recall_score(y_test, y_pred, average='micro'),4)\n",
        "f1_sigmoid = round(metrics.f1_score(y_test, y_pred, average='micro'),4)\n",
        "\n",
        "clf = svm.SVC(kernel='rbf')\n",
        "clf.fit(X_train, y_train)\n",
        "y_pred = clf.predict(X_test)\n",
        "acc_rbf = round(metrics.accuracy_score(y_test, y_pred),4)\n",
        "precision_rbf = round(metrics.precision_score(y_test, y_pred, average='micro'),4)\n",
        "recall_rbf = round(metrics.recall_score(y_test, y_pred, average='micro'),4)\n",
        "f1_rbf = round(metrics.f1_score(y_test, y_pred, average='micro'),4)\n",
        "\n",
        "t = PrettyTable(['','acc','precision','recall','f1'])\n",
        "t.add_row(['linear',acc_linear,precision_linear,recall_linear,f1_linear])\n",
        "t.add_row(['sigmoid',acc_sigmoid,precision_sigmoid,recall_sigmoid,f1_sigmoid])\n",
        "t.add_row(['poly',acc_poly,precision_poly,recall_poly,f1_poly])\n",
        "t.add_row(['rbf',acc_rbf,precision_rbf,recall_rbf,f1_rbf])\n",
        "print(t)"
      ],
      "metadata": {
        "id": "_xhPpF5b033h",
        "colab": {
          "base_uri": "https://localhost:8080/"
        },
        "outputId": "95f7a6d6-5904-4887-cb63-988ed0566ddb"
      },
      "execution_count": 47,
      "outputs": [
        {
          "output_type": "stream",
          "name": "stdout",
          "text": [
            "--------------------\n",
            "Confusion Matrix: \n",
            " [[17  0  0]\n",
            " [ 0 12  2]\n",
            " [ 0  0 14]]\n",
            "--------------------\n",
            "Accuracy:  0.9555555555555556\n",
            "--------------------\n",
            "+---------+--------------------+--------------------+--------------------+--------------------+\n",
            "|         |        acc         |     precision      |       recall       |         f1         |\n",
            "+---------+--------------------+--------------------+--------------------+--------------------+\n",
            "|  linear | 0.9555555555555556 | 0.9555555555555556 | 0.9555555555555556 | 0.9555555555555556 |\n",
            "| sigmoid |       0.1556       |       0.1556       |       0.1556       |       0.1556       |\n",
            "|   poly  |       0.9556       |       0.9556       |       0.9556       |       0.9556       |\n",
            "|   rbf   |       0.9778       |       0.9778       |       0.9778       |       0.9778       |\n",
            "+---------+--------------------+--------------------+--------------------+--------------------+\n"
          ]
        }
      ]
    },
    {
      "cell_type": "markdown",
      "source": [
        "#Task 3. \n",
        "Compare the performance of selected classification algorithms (Decision Tree, kNN, Logistic Regression) and SVM (using different kernels) with mnist dataset based on accuracy, precision, recall, f1 measures.\n"
      ],
      "metadata": {
        "id": "b52OPWPD2afi"
      }
    },
    {
      "cell_type": "code",
      "source": [
        "data_mnist = datasets.load_digits()\n",
        "X = data_mnist.data\n",
        "y = data_mnist.target\n",
        "X_train, X_test, y_train, y_test = train_test_split(X, y, test_size=0.3, random_state = 1)\n",
        "clf = svm.SVC(kernel='rbf')\n",
        "clf.fit(X_train, y_train)\n",
        "y_pred = clf.predict(X_test)\n",
        "acc_svm = metrics.accuracy_score(y_test, y_pred)\n",
        "precision_svm = metrics.precision_score(y_test, y_pred, average='micro')\n",
        "recall_svm = metrics.recall_score(y_test, y_pred, average='micro')\n",
        "f1_svm = metrics.f1_score(y_test, y_pred, average='micro')\n",
        "\n",
        "dtree = DecisionTreeClassifier()\n",
        "dtree.fit(X_train, y_train)\n",
        "y_pred = dtree.predict(X_test)\n",
        "acc_dtree = round((metrics.accuracy_score(y_test, y_pred)),4)\n",
        "precision_dtree = round((metrics.precision_score(y_test, y_pred, average = 'macro')),4)\n",
        "f1_dtree = round((metrics.f1_score(y_test, y_pred, average = 'macro')),4)\n",
        "recall_dtree = round((metrics.recall_score(y_test, y_pred, average = 'macro')),4)\n",
        "\n",
        "k_range = range(1, 30, 2)\n",
        "accs = []\n",
        "precision = []\n",
        "recall = []\n",
        "f1 = []\n",
        "for k in k_range:\n",
        "  KNN = KNeighborsClassifier(n_neighbors = k)\n",
        "  KNN.fit(X_train, y_train)\n",
        "  y_pred = KNN.predict(X_test)\n",
        "  accs.append(metrics.accuracy_score(y_test, y_pred))\n",
        "  precision.append(metrics.precision_score(y_test, y_pred, average = 'micro'))\n",
        "  recall.append(metrics.recall_score(y_test, y_pred, average = 'micro'))\n",
        "  f1.append(metrics.f1_score(y_test, y_pred, average = 'micro'))\n",
        "acc_knn = round(max(accs),4)\n",
        "precision_knn = round(max(precision),4)\n",
        "f1_knn = round(max(f1),4)\n",
        "recall_knn = round(max(recall),4)\n",
        "\n",
        "classifier = LogisticRegression(random_state = 0, max_iter=10000)\n",
        "classifier.fit(X_train, y_train)\n",
        "y_pred = classifier.predict(X_test)\n",
        "acc_logistic = round((metrics.accuracy_score(y_test, y_pred)),4)\n",
        "precision_logistic = round((metrics.precision_score(y_test, y_pred, average = 'macro')),4)\n",
        "f1_logistic = round((metrics.f1_score(y_test, y_pred, average = 'macro')),4)\n",
        "recall_logistic = round((metrics.recall_score(y_test, y_pred, average = 'macro')),4)\n",
        "\n",
        "t = PrettyTable(['','acc','precision','recall','f1'])\n",
        "t.add_row(['kNN',acc_knn,precision_knn,recall_knn,f1_knn])\n",
        "t.add_row(['Decision Tree',acc_dtree,precision_dtree,recall_dtree,f1_dtree])\n",
        "t.add_row(['Logistic Regression',acc_logistic,precision_logistic,recall_logistic,f1_logistic])\n",
        "t.add_row(['SVM',acc_svm,precision_svm,recall_svm,f1_svm])\n",
        "print(t)"
      ],
      "metadata": {
        "colab": {
          "base_uri": "https://localhost:8080/"
        },
        "id": "RqywLYNBbALf",
        "outputId": "eb9f0935-705e-46ee-c181-227888c9bca0"
      },
      "execution_count": 51,
      "outputs": [
        {
          "output_type": "stream",
          "name": "stdout",
          "text": [
            "+---------------------+--------------------+--------------------+--------------------+--------------------+\n",
            "|                     |        acc         |     precision      |       recall       |         f1         |\n",
            "+---------------------+--------------------+--------------------+--------------------+--------------------+\n",
            "|         kNN         |       0.9907       |       0.9907       |       0.9907       |       0.9907       |\n",
            "|    Decision Tree    |       0.8407       |       0.8444       |       0.8416       |       0.8415       |\n",
            "| Logistic Regression |       0.9685       |       0.9673       |       0.9681       |       0.9674       |\n",
            "|         SVM         | 0.9851851851851852 | 0.9851851851851852 | 0.9851851851851852 | 0.9851851851851852 |\n",
            "+---------------------+--------------------+--------------------+--------------------+--------------------+\n"
          ]
        }
      ]
    },
    {
      "cell_type": "markdown",
      "source": [
        "#Task 4. \n",
        "Compare the performance of selected classification algorithms (Decision Tree, kNN, Logistic Regression) and SVM (using different kernels) with **credit card dataset** based on accuracy, precision, recall, f1 measures.\n",
        "\n",
        "*   Give some comments on the obtained results\n",
        "*   Identify issues with dataset, and propose the solutions to these issues\n",
        "\n"
      ],
      "metadata": {
        "id": "Z5pp7_h-aP2u"
      }
    },
    {
      "cell_type": "code",
      "source": [
        "# code\n",
        "data_credit = pd.read_csv('creditcard.csv')\n",
        "# data_credit.columns\n",
        "X = data_credit[['Time', 'V1', 'V2', 'V3', 'V4', 'V5', 'V6', 'V7', 'V8', 'V9', 'V10',\n",
        "       'V11', 'V12', 'V13', 'V14', 'V15', 'V16', 'V17', 'V18', 'V19', 'V20',\n",
        "       'V21', 'V22', 'V23', 'V24', 'V25', 'V26', 'V27', 'V28', 'Amount']]\n",
        "y = data_credit[['Class']]\n",
        "X_train, X_test, y_train, y_test = train_test_split(X, y, test_size=0.3, random_state = 1)"
      ],
      "metadata": {
        "id": "Rw_-8FIf2KxW"
      },
      "execution_count": 43,
      "outputs": []
    },
    {
      "cell_type": "code",
      "source": [
        "clf = svm.SVC(kernel='rbf')\n",
        "clf.fit(X_train, y_train)\n",
        "y_pred = clf.predict(X_test)\n",
        "acc_svm = metrics.accuracy_score(y_test, y_pred)\n",
        "precision_svm = metrics.precision_score(y_test, y_pred, average='micro')\n",
        "recall_svm = metrics.recall_score(y_test, y_pred, average='micro')\n",
        "f1_svm = metrics.f1_score(y_test, y_pred, average='micro')"
      ],
      "metadata": {
        "colab": {
          "base_uri": "https://localhost:8080/"
        },
        "id": "WmgHcthzce1U",
        "outputId": "0e382f20-ded5-4d55-8326-5ea4af4eea1b"
      },
      "execution_count": null,
      "outputs": [
        {
          "output_type": "stream",
          "name": "stderr",
          "text": [
            "/usr/local/lib/python3.9/dist-packages/sklearn/utils/validation.py:1143: DataConversionWarning: A column-vector y was passed when a 1d array was expected. Please change the shape of y to (n_samples, ), for example using ravel().\n",
            "  y = column_or_1d(y, warn=True)\n"
          ]
        }
      ]
    },
    {
      "cell_type": "code",
      "source": [
        "dtree = DecisionTreeClassifier()\n",
        "dtree.fit(X_train, y_train)\n",
        "y_pred = dtree.predict(X_test)\n",
        "acc_dtree = round((metrics.accuracy_score(y_test, y_pred)),4)\n",
        "precision_dtree = round((metrics.precision_score(y_test, y_pred, average = 'macro')),4)\n",
        "f1_dtree = round((metrics.f1_score(y_test, y_pred, average = 'macro')),4)\n",
        "recall_dtree = round((metrics.recall_score(y_test, y_pred, average = 'macro')),4)\n",
        "\n",
        "k_range = range(1, 30, 2)\n",
        "accs = []\n",
        "precision = []\n",
        "recall = []\n",
        "f1 = []\n",
        "for k in k_range:\n",
        "  KNN = KNeighborsClassifier(n_neighbors = k)\n",
        "  KNN.fit(X_train, y_train)\n",
        "  y_pred = KNN.predict(X_test)\n",
        "  accs.append(metrics.accuracy_score(y_test, y_pred))\n",
        "  precision.append(metrics.precision_score(y_test, y_pred, average = 'micro'))\n",
        "  recall.append(metrics.recall_score(y_test, y_pred, average = 'micro'))\n",
        "  f1.append(metrics.f1_score(y_test, y_pred, average = 'micro'))\n",
        "acc_knn = round(max(accs),4)\n",
        "precision_knn = round(max(precision),4)\n",
        "f1_knn = round(max(f1),4)\n",
        "recall_knn = round(max(recall),4)\n",
        "\n",
        "classifier = LogisticRegression(random_state = 0, max_iter=10000)\n",
        "classifier.fit(X_train, y_train)\n",
        "y_pred = classifier.predict(X_test)\n",
        "acc_logistic = round((metrics.accuracy_score(y_test, y_pred)),4)\n",
        "precision_logistic = round((metrics.precision_score(y_test, y_pred, average = 'macro')),4)\n",
        "f1_logistic = round((metrics.f1_score(y_test, y_pred, average = 'macro')),4)\n",
        "recall_logistic = round((metrics.recall_score(y_test, y_pred, average = 'macro')),4)\n",
        "\n",
        "t = PrettyTable(['','acc','precision','recall','f1'])\n",
        "t.add_row(['kNN',acc_knn,precision_knn,recall_knn,f1_knn])\n",
        "t.add_row(['Decision Tree',acc_dtree,precision_dtree,recall_dtree,f1_dtree])\n",
        "t.add_row(['Logistic Regression',acc_logistic,precision_logistic,recall_logistic,f1_logistic])\n",
        "t.add_row(['SVM',acc_svm,precision_svm,recall_svm,f1_svm])\n",
        "print(t)"
      ],
      "metadata": {
        "colab": {
          "base_uri": "https://localhost:8080/"
        },
        "id": "l7CCFcJngIW-",
        "outputId": "e9abbe21-ecf1-4924-ee80-bbe7cacccd9f"
      },
      "execution_count": 50,
      "outputs": [
        {
          "output_type": "stream",
          "name": "stdout",
          "text": [
            "+---------------------+--------------------+--------------------+--------------------+--------------------+\n",
            "|                     |        acc         |     precision      |       recall       |         f1         |\n",
            "+---------------------+--------------------+--------------------+--------------------+--------------------+\n",
            "|         kNN         |       0.9907       |       0.9907       |       0.9907       |       0.9907       |\n",
            "|    Decision Tree    |       0.8593       |       0.8584       |       0.8599       |       0.858        |\n",
            "| Logistic Regression |       0.9685       |       0.9673       |       0.9681       |       0.9674       |\n",
            "|         SVM         | 0.9851851851851852 | 0.9851851851851852 | 0.9851851851851852 | 0.9851851851851852 |\n",
            "+---------------------+--------------------+--------------------+--------------------+--------------------+\n"
          ]
        }
      ]
    },
    {
      "cell_type": "markdown",
      "source": [
        "#Finally,\n",
        "Save a copy in your Github. Remember renaming the notebook."
      ],
      "metadata": {
        "id": "Ok7RGkea_b7n"
      }
    }
  ]
}